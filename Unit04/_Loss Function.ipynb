{
 "cells": [
  {
   "cell_type": "markdown",
   "metadata": {},
   "source": [
    "\n",
    "# 評估指標實作篇\n",
    "建立一個機器學習模型後，需要計算評估指標分數，<br>\n",
    "從指標中獲得反饋看模型表現的優劣，再繼續改進模型，直到達到理想的指標分數。\n",
    "\n"
   ]
  },
  {
   "cell_type": "markdown",
   "metadata": {},
   "source": [
    "<img  src=\"images/MAE.jpg\" align='left'/><br><br><br><br><br>\n",
    "<img  src=\"images/MSE.jpg\" align='left'/><br><br><br><br><br>\n",
    "<img  src=\"images/RMSE.jpg\" align='left'/><br><br><br><br><br>\n",
    "\n",
    "ANS<br>\n",
    "MAE =  1.4916666666666665<br>\n",
    "MSE =  2.72875<br>\n",
    "RMSE =  1.651892853668179<br>\n"
   ]
  },
  {
   "cell_type": "code",
   "execution_count": 1,
   "metadata": {},
   "outputs": [],
   "source": [
    "target = [1.5, 2.1, 3.3, -4.7, -2.3, 0.75]\n",
    "prediction = [0.5, 1.5, 2.1, -2.2, 0.1, -0.5]"
   ]
  },
  {
   "cell_type": "code",
   "execution_count": 13,
   "metadata": {},
   "outputs": [
    {
     "name": "stdout",
     "output_type": "stream",
     "text": [
      "Error: [1.0, 0.6000000000000001, 1.1999999999999997, -2.5, -2.4, 1.25]\n",
      "absError: [1.0, 0.6000000000000001, 1.1999999999999997, 2.5, 2.4, 1.25]\n",
      "squarederror: [1.0, 0.3600000000000001, 1.4399999999999993, 6.25, 5.76, 1.5625]\n",
      "Absolute Value of Error:  [1.0, 0.6000000000000001, 1.1999999999999997, 2.5, 2.4, 1.25]\n",
      "MAE =  1.4916666666666665\n",
      "Square Error:  [1.0, 0.3600000000000001, 1.4399999999999993, 6.25, 5.76, 1.5625]\n",
      "MSE =  2.72875\n",
      "RMSE =  1.651892853668179\n",
      "RMSE_2 =  1.651892853668179\n"
     ]
    }
   ],
   "source": [
    "#Ans\n",
    "import math\n",
    "\n",
    "error = []\n",
    "abserror = []\n",
    "squarederror = []\n",
    "for i in range(len(target)):\n",
    "    diff = target[i] - prediction[i]\n",
    "    error.append(diff)\n",
    "    abserror.append(abs(diff))\n",
    "    squarederror.append(diff*diff)\n",
    "print(\"Error:\", error)\n",
    "print(\"absError:\", abserror)\n",
    "print(\"squarederror:\", squarederror)\n",
    "MAE = sum(abserror)/len(abserror)\n",
    "MSE = sum(squarederror)/len(squarederror)\n",
    "RMSE = pow(MSE, 0.5)\n",
    "RMSE_2 = math.sqrt(MSE)\n",
    "\n",
    "#平均絕對誤差MAE\n",
    "print(\"Absolute Value of Error: \", abserror)\n",
    "print(\"MAE = \", MAE)\n",
    "\n",
    "#均方誤差MSE\n",
    "print(\"Square Error: \", squarederror)\n",
    "print(\"MSE = \", MSE)\n",
    "\n",
    "#均方根誤差RMSE\n",
    "print(\"RMSE = \", RMSE)\n",
    "print(\"RMSE_2 = \", RMSE_2)\n",
    " \n",
    "\n"
   ]
  },
  {
   "cell_type": "markdown",
   "metadata": {},
   "source": [
    "#### other\n",
    "平均值 變異數 標準差"
   ]
  },
  {
   "cell_type": "code",
   "execution_count": 15,
   "metadata": {},
   "outputs": [
    {
     "name": "stdout",
     "output_type": "stream",
     "text": [
      "Target Mean =  0.10833333333333339\n",
      "Target Variance =  7.570347222222222\n",
      "Target Standard Deviation =  2.7514263977475797\n"
     ]
    }
   ],
   "source": [
    "targetDeviation = []\n",
    "targetMean = sum(target) / len(target)#target平均值\n",
    "for val in target:\n",
    "    targetDeviation.append((val - targetMean) * (val - targetMean))\n",
    "\n",
    "print(\"Target Mean = \", targetMean)\n",
    "print(\"Target Variance = \", sum(targetDeviation) / len(targetDeviation))#方差\n",
    "print(\"Target Standard Deviation = \", math.sqrt(sum(targetDeviation) / len(targetDeviation)))#標準差"
   ]
  },
  {
   "cell_type": "markdown",
   "metadata": {},
   "source": [
    "# sklearn\n",
    "from sklearn import metrics\n",
    "\n",
    ">Mean Absolute Error (MAE)代表平均誤差，公式為所有實際值及預測值相減的絕對值平均。\n",
    "\n",
    ">Mean Squared Error (MSE)比起MSE可以拉開誤差差距，算是蠻常用的指標，公式所有實際值及預測值相減的平方的平均\n",
    "\n",
    ">Root Mean Squared Error (RMSE)代表MSE的平方根。比起MSE更為常用，因為更容易解釋y。\n"
   ]
  },
  {
   "cell_type": "code",
   "execution_count": 18,
   "metadata": {},
   "outputs": [],
   "source": [
    "y_test = [1.5, 2.1, 3.3, -4.7, -2.3, 0.75]\n",
    "predictions = [0.5, 1.5, 2.1, -2.2, 0.1, -0.5]"
   ]
  },
  {
   "cell_type": "code",
   "execution_count": 21,
   "metadata": {},
   "outputs": [
    {
     "name": "stdout",
     "output_type": "stream",
     "text": [
      "SKL_MAE =   1.4916666666666665\n",
      "SKL_MSE =  2.72875\n",
      "SKL_RMSE =  1.651892853668179\n"
     ]
    }
   ],
   "source": [
    "#載入迴歸常見的評估指標套件\n",
    "from sklearn import metrics\n",
    "\n",
    "SKL_MAE = metrics.mean_absolute_error(y_test, predictions)\n",
    "SKL_MSE = metrics.mean_squared_error(y_test, predictions)\n",
    "SKL_RMSE = math.sqrt(SKL_MSE)\n",
    "\n",
    "print(\"SKL_MAE =  \", SKL_MAE)\n",
    "print(\"SKL_MSE = \", SKL_MSE)\n",
    "print(\"SKL_RMSE = \", SKL_RMSE)"
   ]
  },
  {
   "cell_type": "code",
   "execution_count": null,
   "metadata": {},
   "outputs": [],
   "source": []
  }
 ],
 "metadata": {
  "kernelspec": {
   "display_name": "Python 3 (ipykernel)",
   "language": "python",
   "name": "python3"
  },
  "language_info": {
   "codemirror_mode": {
    "name": "ipython",
    "version": 3
   },
   "file_extension": ".py",
   "mimetype": "text/x-python",
   "name": "python",
   "nbconvert_exporter": "python",
   "pygments_lexer": "ipython3",
   "version": "3.10.9"
  }
 },
 "nbformat": 4,
 "nbformat_minor": 4
}
